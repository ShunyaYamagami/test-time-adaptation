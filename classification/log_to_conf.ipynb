{
 "cells": [
  {
   "cell_type": "code",
   "execution_count": 33,
   "metadata": {},
   "outputs": [],
   "source": [
    "from glob import glob\n",
    "from pathlib import Path\n",
    "import yaml\n",
    "from easydict import EasyDict\n",
    "import os\n",
    "\n",
    "def easydict_constructor(loader, node):\n",
    "    state_node = None\n",
    "    for key_node, value_node in node.value:\n",
    "        if key_node.value == 'state':\n",
    "            state_node = value_node\n",
    "            break\n",
    "    return EasyDict(loader.construct_pairs(state_node))\n",
    "\n",
    "yaml.SafeLoader.add_constructor('tag:yaml.org,2002:python/object/new:easydict.EasyDict', easydict_constructor)\n",
    "\n",
    "\n",
    "\n",
    "for out in glob(\"output/*\"):\n",
    "    try:\n",
    "        y = os.path.join(out, \"hparams.yaml\")\n",
    "        with open(y, 'r') as stream:\n",
    "            try:\n",
    "                hpearams = yaml.safe_load(stream)\n",
    "            except yaml.YAMLError as exc:\n",
    "                print(exc)\n",
    "\n",
    "        dirname = f\"{'_'.join(Path(y).parent.name.split('_')[:3])}--ts_{hpearams['clip_model']['task_specific']}--base_{hpearams['base_model']['model']}--warm_{hpearams['warmup']['use']}--proto_{hpearams['prototypes']['use']}--domain_{hpearams['domain_loss']['method']}\"\n",
    "        dirname = dirname.replace('False', 'F').replace('True', 'T').replace('my_transformer', 'tf')\n",
    "        \n",
    "        os.rename(out, Path(out).parent / dirname)\n",
    "    except:\n",
    "        print(out)"
   ]
  },
  {
   "cell_type": "code",
   "execution_count": 34,
   "metadata": {},
   "outputs": [],
   "source": [
    "for out in glob(\"output/*\"):\n",
    "    if \"ts--ts\" in out:\n",
    "        os.rename(out, out.replace(\"ts--ts\", \"ts\"))"
   ]
  }
 ],
 "metadata": {
  "kernelspec": {
   "display_name": "tta",
   "language": "python",
   "name": "python3"
  },
  "language_info": {
   "codemirror_mode": {
    "name": "ipython",
    "version": 3
   },
   "file_extension": ".py",
   "mimetype": "text/x-python",
   "name": "python",
   "nbconvert_exporter": "python",
   "pygments_lexer": "ipython3",
   "version": "3.9.7"
  },
  "orig_nbformat": 4
 },
 "nbformat": 4,
 "nbformat_minor": 2
}
