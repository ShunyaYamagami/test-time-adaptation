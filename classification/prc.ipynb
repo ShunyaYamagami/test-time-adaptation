{
 "cells": [
  {
   "attachments": {},
   "cell_type": "markdown",
   "metadata": {},
   "source": [
    "# Sinkhorn-Knopp"
   ]
  },
  {
   "cell_type": "code",
   "execution_count": null,
   "metadata": {},
   "outputs": [],
   "source": [
    "import numpy as np\n",
    "from sinkhorn_knopp import sinkhorn_knopp as skp\n",
    "import pandas as pd\n",
    "import torch\n",
    "\n",
    "sk = skp.SinkhornKnopp()\n",
    "csv_path = \"sim_mtx.csv\"\n",
    "# df = pd.read_csv(csv_path, header=None, sep=',')\n",
    "# P = torch.tensor(df.values)\n",
    "# P = np.array([[1,2,3],[4,5,6],[7,8,9]])\n",
    "P = np.random.rand(100, 100)\n",
    "P_ds = sk.fit(P)\n",
    "print(P_ds)\n",
    "print(np.sum(P_ds, axis=0))\n",
    "print(np.sum(P_ds, axis=1))"
   ]
  },
  {
   "attachments": {},
   "cell_type": "markdown",
   "metadata": {},
   "source": [
    "# Biclustering"
   ]
  },
  {
   "cell_type": "code",
   "execution_count": null,
   "metadata": {},
   "outputs": [],
   "source": [
    "import numpy as np\n",
    "from matplotlib import pyplot as plt\n",
    "\n",
    "from sklearn.datasets import make_checkerboard\n",
    "from sklearn.cluster import SpectralBiclustering\n",
    "from sklearn.metrics import consensus_score\n",
    "\n",
    "\n",
    "n_clusters = (4, 3)\n",
    "data, rows, columns = make_checkerboard(\n",
    "    shape=(300, 300), n_clusters=n_clusters, noise=10, shuffle=False, random_state=0\n",
    ")\n",
    "\n",
    "plt.matshow(data, cmap=plt.cm.Blues)\n",
    "plt.title(\"Original dataset\")\n",
    "\n",
    "# shuffle clusters\n",
    "rng = np.random.RandomState(0)\n",
    "row_idx = rng.permutation(data.shape[0])\n",
    "col_idx = rng.permutation(data.shape[1])\n",
    "data = data[row_idx][:, col_idx]\n",
    "\n",
    "plt.matshow(data, cmap=plt.cm.Blues)\n",
    "plt.title(\"Shuffled dataset\")\n",
    "\n",
    "model = SpectralBiclustering(n_clusters=n_clusters, method=\"log\", random_state=0)\n",
    "model.fit(data)\n",
    "score = consensus_score(model.biclusters_, (rows[:, row_idx], columns[:, col_idx]))\n",
    "\n",
    "print(\"consensus score: {:.1f}\".format(score))\n",
    "\n",
    "fit_data = data[np.argsort(model.row_labels_)]\n",
    "fit_data = fit_data[:, np.argsort(model.column_labels_)]\n",
    "\n",
    "plt.matshow(fit_data, cmap=plt.cm.Blues)\n",
    "plt.title(\"After biclustering; rearranged to show biclusters\")\n",
    "\n",
    "plt.matshow(\n",
    "    np.outer(np.sort(model.row_labels_) + 1, np.sort(model.column_labels_) + 1),\n",
    "    cmap=plt.cm.Blues,\n",
    ")\n",
    "plt.title(\"Checkerboard structure of rearranged data\")\n",
    "\n",
    "plt.show()"
   ]
  },
  {
   "cell_type": "code",
   "execution_count": null,
   "metadata": {},
   "outputs": [],
   "source": [
    "np.outer(np.sort(model.row_labels_) + 1, np.sort(model.column_labels_) + 1),\n",
    "# np.outer(model.row_labels_ + 1, model.column_labels_ )"
   ]
  },
  {
   "attachments": {},
   "cell_type": "markdown",
   "metadata": {},
   "source": [
    "# get_clsdst_transform():"
   ]
  },
  {
   "cell_type": "code",
   "execution_count": null,
   "metadata": {},
   "outputs": [],
   "source": [
    "import torchvision.transforms as transforms\n",
    "from augmentations.aug import get_jigsaw\n",
    "from prc_functions.dataloader import get_clsdst_transform, get_dataloader\n",
    "import torchvision.transforms as transforms\n",
    "import torchvision\n",
    "\n",
    "transform = transforms.Compose([\n",
    "    # transforms.Resize(224, interpolation=InterpolationMode.BICUBIC),\n",
    "    transforms.Resize(224),\n",
    "    # transforms.CenterCrop(224),\n",
    "    transforms.ToTensor(),\n",
    "    transforms.Normalize((0.48145466, 0.4578275, 0.40821073), (0.26862954, 0.26130258, 0.27577711)),\n",
    "    transforms.ToPILImage(),\n",
    "    transforms.Lambda(get_jigsaw),\n",
    "])\n",
    "dataset = torchvision.datasets.CIFAR10(root=\"/nas/data/syamagami/tta/rmt\", train=False, download=True, transform=transform)\n",
    "im, label = dataset[0]\n",
    "\n",
    "im"
   ]
  },
  {
   "attachments": {},
   "cell_type": "markdown",
   "metadata": {},
   "source": [
    "# Shuffle on Tensor Patch"
   ]
  },
  {
   "cell_type": "code",
   "execution_count": null,
   "metadata": {},
   "outputs": [],
   "source": [
    "import torch\n",
    "import torchvision.transforms as transforms\n",
    "from PIL import Image\n",
    "\n",
    "def shuffle_image_tensor(image_tensor:torch.Tensor, grid:int=4, C=3) -> torch.Tensor:\n",
    "    \"\"\" テンソル型に変換した後の画像をパッチに分割して Block Shuffle する.\n",
    "    args:\n",
    "        image_tensor (torch.Tensor): [B, C, H, W]\n",
    "        grid (int): 1辺のパッチ数\n",
    "        C (int): チャンネル数\n",
    "    return:\n",
    "        shuffled_image_tensor (torch.Tensor): [B, C, H, W]\n",
    "    \"\"\"\n",
    "    patch_num = grid ** 2\n",
    "    image_edge = image_tensor.shape[-1]\n",
    "    \n",
    "    # 最も近いgridの倍数にリサイズ\n",
    "    while image_edge % grid != 0:\n",
    "        image_edge += 1\n",
    "\n",
    "    h, w = image_edge, image_edge\n",
    "    patch_h, patch_w = h // grid, w // grid\n",
    "    patch_i = torch.randperm(patch_num)\n",
    "\n",
    "    unfold = image_tensor.unfold(2, patch_h, patch_h).unfold(3, patch_h, patch_w)  # [B, C, grid, grid, patch_h, patch_w]\n",
    "    shuffled = unfold.reshape(-1, C, patch_num, patch_h, patch_w)[:, :, patch_i, :]  # [B, C, patch_num, patch_h, patch_w]\n",
    "    shuffled_image_tensor = shuffled.reshape(-1, C, grid, grid, patch_h, patch_w).permute(0, 1, 2, 4, 3, 5).reshape(-1, C, h, w)  # [B, C, H, W]\n",
    "\n",
    "    return shuffled_image_tensor\n",
    "\n",
    "\n",
    "transform = transforms.Compose([\n",
    "    transforms.Resize((32, 32)),\n",
    "    transforms.ToTensor(),\n",
    "])\n",
    "# 画像を読み込む\n",
    "image1 = Image.open(\"prc_functions/image.jpg\").resize((32,32))  # 画像のパスを指定してください\n",
    "image2 = Image.open(\"prc_functions/image2.jpg\").resize((32,32))  # 画像のパスを指定してください\n",
    "# 画像をテンソルに変換する\n",
    "image_tensor1 = transform(image1)\n",
    "image_tensor2 = transform(image2)\n",
    "image_tensor = torch.cat((image_tensor1.unsqueeze(0), image_tensor2.unsqueeze(0)) , dim=0)  # [B, C, H, W]\n",
    "\n",
    "bs_transform = transforms.Compose([\n",
    "    # transforms.Lambda(lambda im: shuffle_image_tensor(im, grid=4)),\n",
    "    transforms.Lambda(shuffle_image_tensor),\n",
    "    transforms.Resize((224, 224)),\n",
    "])\n",
    "im = bs_transform(image_tensor)\n",
    "transforms.ToPILImage()(im[1])"
   ]
  },
  {
   "attachments": {},
   "cell_type": "markdown",
   "metadata": {},
   "source": [
    "# Mine"
   ]
  },
  {
   "cell_type": "code",
   "execution_count": null,
   "metadata": {},
   "outputs": [],
   "source": [
    "import torch\n",
    "import numpy as np\n",
    "import random\n",
    "\n",
    "# シード値を指定する\n",
    "seed_value = 42\n",
    "random.seed(seed_value)\n",
    "np.random.seed(seed_value)\n",
    "torch.manual_seed(seed_value)\n",
    "if torch.cuda.is_available():\n",
    "    torch.cuda.manual_seed_all(seed_value)"
   ]
  },
  {
   "cell_type": "code",
   "execution_count": null,
   "metadata": {},
   "outputs": [],
   "source": [
    "from models.mine import Mine, MineTrainer\n",
    "\n",
    "x = np.random.multivariate_normal(mean=[0,0], cov=[[1,0],[0,1]], size = 300)\n",
    "y = np.random.multivariate_normal(mean=[0,0], cov=[[1,0.8],[0.8,1]], size = 300)\n",
    "\n",
    "print(x.shape, y.shape)"
   ]
  },
  {
   "cell_type": "code",
   "execution_count": null,
   "metadata": {},
   "outputs": [],
   "source": [
    "mine = MineTrainer()\n",
    "\n",
    "joint_data = mine.sample_batch(y, sample_mode='joint')\n",
    "marginal_data = mine.sample_batch(y, sample_mode='marginal')\n",
    "\n",
    "result_indep = mine.train(x)"
   ]
  },
  {
   "cell_type": "code",
   "execution_count": null,
   "metadata": {},
   "outputs": [],
   "source": [
    "import matplotlib.pyplot as plt\n",
    "import seaborn as sns\n",
    "sns.set()\n",
    "\n",
    "result_indep_ma = mine.ma(result_indep)\n",
    "print(result_indep_ma[-1])\n",
    "plt.plot(range(len(result_indep_ma)),result_indep_ma)"
   ]
  },
  {
   "attachments": {},
   "cell_type": "markdown",
   "metadata": {},
   "source": [
    "# MINE Loss"
   ]
  },
  {
   "cell_type": "code",
   "execution_count": null,
   "metadata": {},
   "outputs": [],
   "source": [
    "import numpy as np\n",
    "import pandas as pd\n",
    "import torch\n",
    "import torch.nn as nn\n",
    "\n",
    "df = pd.read_csv(\"csv_clustered_mtx.csv\", header=None)\n",
    "mtx = torch.Tensor(df.values)\n",
    "diag = torch.diag(mtx).long()\n",
    "features = torch.randn(len(diag), 512).float()"
   ]
  },
  {
   "cell_type": "code",
   "execution_count": null,
   "metadata": {},
   "outputs": [],
   "source": [
    "from models.mine import Mine, MineTrainer\n",
    "mine_model = MineTrainer()\n",
    "mean_feat_per_clust = [features[diag == clust].mean(dim=0) for clust in range(torch.max(diag) + 1)]\n",
    "# mine_loss = 0.\n",
    "for i in range(len(mean_feat_per_clust)):\n",
    "    for j in range(i+1, len(mean_feat_per_clust)):\n",
    "        data = torch.stack([mean_feat_per_clust[i], mean_feat_per_clust[j]], dim=1)\n",
    "        mine_model.train(data)"
   ]
  },
  {
   "cell_type": "code",
   "execution_count": null,
   "metadata": {},
   "outputs": [],
   "source": [
    "mean_feat_per_clust[0].shape"
   ]
  },
  {
   "attachments": {},
   "cell_type": "markdown",
   "metadata": {},
   "source": [
    "# My Vision Transformer"
   ]
  },
  {
   "cell_type": "code",
   "execution_count": null,
   "metadata": {},
   "outputs": [],
   "source": [
    "from models.my_transformer import MyTransformer\n",
    "import torch\n",
    "transformer_width = 512\n",
    "transformer_layers = 12\n",
    "transformer_heads = 8\n",
    "context_length = 77\n",
    "\n",
    "transformer = MyTransformer(\n",
    "    width=transformer_width,\n",
    "    layers=transformer_layers,\n",
    "    heads=transformer_heads,\n",
    "    # context_length=context_length,\n",
    "    context_length=200,\n",
    "    attn_mask=\"build_attention_mask\"\n",
    ")"
   ]
  },
  {
   "cell_type": "code",
   "execution_count": null,
   "metadata": {},
   "outputs": [],
   "source": [
    "x = torch.randn(200, 512)\n",
    "print(x.shape)\n",
    "print(x)\n",
    "transformer(x)"
   ]
  }
 ],
 "metadata": {
  "kernelspec": {
   "display_name": "tta",
   "language": "python",
   "name": "python3"
  },
  "language_info": {
   "codemirror_mode": {
    "name": "ipython",
    "version": 3
   },
   "file_extension": ".py",
   "mimetype": "text/x-python",
   "name": "python",
   "nbconvert_exporter": "python",
   "pygments_lexer": "ipython3",
   "version": "3.9.7"
  },
  "orig_nbformat": 4
 },
 "nbformat": 4,
 "nbformat_minor": 2
}
