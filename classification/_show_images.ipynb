{
 "cells": [
  {
   "cell_type": "code",
   "execution_count": null,
   "metadata": {},
   "outputs": [],
   "source": [
    "import numpy as np\n",
    "from PIL import Image\n",
    "from glob import glob\n",
    "from pathlib import Path\n",
    "import os\n",
    "import shutil\n",
    "\n",
    "domains = ['brightness','elastic_transform','gaussian_blur','impulse_noise','pixelate','snow','zoom_blur','contrast','fog','gaussian_noise','jpeg_compression','saturate','spatter','defocus_blur','frost','glass_blur','motion_blur','shot_noise','speckle_noise']\n",
    "shutil.rmtree('imagenet_c', ignore_errors=True)\n",
    "os.makedirs('domain_images/imagenet_c', exist_ok=True)\n",
    "for domain in domains:\n",
    "    print(domain)\n",
    "    image = Image.open(f'/nas/data/syamagami/tta/rmt/imagenet_c/{domain}/1/n02093647/ILSVRC2012_val_00000883.JPEG')\n",
    "\n",
    "    # 画像を保存する場合\n",
    "    image.save(f'domain_images/imagenet_c/{domain}.png')"
   ]
  },
  {
   "cell_type": "code",
   "execution_count": null,
   "metadata": {},
   "outputs": [],
   "source": [
    "import matplotlib.pyplot as plt\n",
    "import numpy as np\n",
    "import os\n",
    "\n",
    "dirs = 'domain_images/imagenet_c'\n",
    "domains = ['gaussian_noise', 'shot_noise', 'impulse_noise', 'defocus_blur', 'glass_blur', 'motion_blur', 'zoom_blur', 'snow', 'frost', 'fog', 'brightness', 'contrast', 'elastic_transform', 'pixelate', 'jpeg_compression']\n",
    "\n",
    "\n",
    "# 画像の枚数とグリッドの行数、列数を指定\n",
    "num_images = len(domains)\n",
    "grid_rows = 3\n",
    "grid_cols = 5\n",
    "\n",
    "# グリッド表示のための設定\n",
    "fig, axes = plt.subplots(grid_rows, grid_cols, figsize=(8, 5))\n",
    "\n",
    "# 画像をグリッドに表示\n",
    "for i, ax in enumerate(axes.flat):\n",
    "    image_file = os.path.join(dirs, domains[i]+\".png\")\n",
    "    if i < num_images:\n",
    "        # 画像を読み込んで表示\n",
    "        image = plt.imread(image_file)\n",
    "        ax.imshow(image)\n",
    "        ax.axis('off')\n",
    "\n",
    "        # キャプションにファイル名を表示\n",
    "        # ax.set_title(Path(image_file).stem)\n",
    "        ax.text(0.5, -0.01, Path(image_file).stem, transform=ax.transAxes,\n",
    "                horizontalalignment='center', verticalalignment='top')\n",
    "    else:\n",
    "        # 枠外の余分なサブプロットは非表示にする\n",
    "        ax.axis('off')\n",
    "\n",
    "# グリッド表示を調整して表示\n",
    "plt.tight_layout()\n",
    "plt.show()"
   ]
  },
  {
   "cell_type": "code",
   "execution_count": null,
   "metadata": {},
   "outputs": [],
   "source": []
  }
 ],
 "metadata": {
  "kernelspec": {
   "display_name": "tta",
   "language": "python",
   "name": "python3"
  },
  "language_info": {
   "codemirror_mode": {
    "name": "ipython",
    "version": 3
   },
   "file_extension": ".py",
   "mimetype": "text/x-python",
   "name": "python",
   "nbconvert_exporter": "python",
   "pygments_lexer": "ipython3",
   "version": "3.9.7"
  },
  "orig_nbformat": 4
 },
 "nbformat": 4,
 "nbformat_minor": 2
}
